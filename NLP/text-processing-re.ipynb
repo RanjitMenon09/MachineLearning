{
 "cells": [
  {
   "cell_type": "markdown",
   "metadata": {},
   "source": [
    "### Text Preprocessing using Regex"
   ]
  },
  {
   "cell_type": "code",
   "execution_count": 3,
   "metadata": {},
   "outputs": [],
   "source": [
    "import re"
   ]
  },
  {
   "cell_type": "code",
   "execution_count": 13,
   "metadata": {},
   "outputs": [
    {
     "data": {
      "text/plain": [
       "'No Match'"
      ]
     },
     "execution_count": 13,
     "metadata": {},
     "output_type": "execute_result"
    }
   ],
   "source": [
    "pattern = \"\\d\\d\\d\"\n",
    "text = \"3658\"\n",
    "result = 'Match' if re.fullmatch(pattern,text) else 'No Match'\n",
    "result"
   ]
  },
  {
   "cell_type": "code",
   "execution_count": 17,
   "metadata": {},
   "outputs": [
    {
     "data": {
      "text/plain": [
       "True"
      ]
     },
     "execution_count": 17,
     "metadata": {},
     "output_type": "execute_result"
    }
   ],
   "source": [
    "text = \"B23-\"\n",
    "pattern = \"[A-Z][1-5][1-5]-\"\n",
    "result = True if re.fullmatch(pattern,text) else False\n",
    "result"
   ]
  },
  {
   "cell_type": "code",
   "execution_count": 36,
   "metadata": {},
   "outputs": [
    {
     "data": {
      "text/plain": [
       "True"
      ]
     },
     "execution_count": 36,
     "metadata": {},
     "output_type": "execute_result"
    }
   ],
   "source": [
    "text = 'notinList'\n",
    "pattern = '^(Maruti|Hyundai|tesla)'\n",
    "result = True if re.fullmatch(pattern,text) else False  #full match will match the entire string still it meet the criteria\n",
    "result"
   ]
  },
  {
   "cell_type": "code",
   "execution_count": 47,
   "metadata": {},
   "outputs": [
    {
     "data": {
      "text/plain": [
       "<re.Match object; span=(0, 33), match='your phone number is 785-254-8888'>"
      ]
     },
     "execution_count": 47,
     "metadata": {},
     "output_type": "execute_result"
    }
   ],
   "source": [
    "text =\"your phone number is 785-254-8888\"\n",
    "pattern = '\\D{0,21}\\d\\d\\d-\\d\\d\\d-\\d\\d\\d\\d' #pattern match the string and the phone number\n",
    "result = re.match(pattern,text) \n",
    "result"
   ]
  },
  {
   "cell_type": "code",
   "execution_count": 90,
   "metadata": {},
   "outputs": [
    {
     "name": "stdout",
     "output_type": "stream",
     "text": [
      "None\n"
     ]
    }
   ],
   "source": [
    "text =\"your phone number is 785-254-8888\"\n",
    "pattern = '\\d\\d\\d-\\d\\d\\d-\\d\\d\\d\\d'  # pattern only match the phone number\n",
    "result = re.match(pattern,text)  #this will not retun as the whole text needs to be matched when using match\n",
    "print(result)"
   ]
  },
  {
   "cell_type": "code",
   "execution_count": 88,
   "metadata": {},
   "outputs": [
    {
     "name": "stdout",
     "output_type": "stream",
     "text": [
      "<re.Match object; span=(0, 12), match='785-254-8888'>\n"
     ]
    }
   ],
   "source": [
    "text =\"785-254-8888 is your phone number\"\n",
    "pattern = '\\d\\d\\d-\\d\\d\\d-\\d\\d\\d\\d'  # pattern only match the phone number\n",
    "result = re.match(pattern,text)  #this will match as the pattern starts at the beginning\n",
    "print(result)"
   ]
  },
  {
   "cell_type": "code",
   "execution_count": 59,
   "metadata": {},
   "outputs": [
    {
     "name": "stdout",
     "output_type": "stream",
     "text": [
      "<re.Match object; span=(0, 11), match='01:05:01 AM'>\n"
     ]
    }
   ],
   "source": [
    "text = '01:05:01 AM'\n",
    "pattern ='\\d{2}:\\d\\d:\\d\\d (AM|PM)'\n",
    "print(re.fullmatch(pattern,text))"
   ]
  },
  {
   "cell_type": "code",
   "execution_count": 67,
   "metadata": {},
   "outputs": [
    {
     "data": {
      "text/plain": [
       "'Match'"
      ]
     },
     "execution_count": 67,
     "metadata": {},
     "output_type": "execute_result"
    }
   ],
   "source": [
    "text = '\\\\'\n",
    "pattern ='\\W' # match any non word , example special char\n",
    "result = 'Match' if re.fullmatch(pattern,text) else 'No Match'\n",
    "result"
   ]
  },
  {
   "cell_type": "code",
   "execution_count": 73,
   "metadata": {},
   "outputs": [
    {
     "data": {
      "text/plain": [
       "'Match'"
      ]
     },
     "execution_count": 73,
     "metadata": {},
     "output_type": "execute_result"
    }
   ],
   "source": [
    "text = '\\t'\n",
    "result = 'Match' if re.fullmatch('\\s',text) else 'No Match' # match only space, tab or new line \n",
    "result"
   ]
  },
  {
   "cell_type": "markdown",
   "metadata": {},
   "source": [
    "### Using match in re"
   ]
  },
  {
   "cell_type": "code",
   "execution_count": 78,
   "metadata": {},
   "outputs": [],
   "source": [
    "text ='abc658rr4582'\n",
    "pattern = '\\d'\n",
    "\n",
    "result = re.match(pattern,text)  #match will search the first match from the string, this will be false as \\d will match only digit\n",
    "result"
   ]
  },
  {
   "cell_type": "markdown",
   "metadata": {},
   "source": [
    "### Using search in re"
   ]
  },
  {
   "cell_type": "code",
   "execution_count": 86,
   "metadata": {},
   "outputs": [
    {
     "name": "stdout",
     "output_type": "stream",
     "text": [
      "<re.Match object; span=(21, 33), match='785-254-8888'>\n"
     ]
    }
   ],
   "source": [
    "text = 'your phone number is 785-254-8888'\n",
    "pattern = '\\d{3}-\\d{3}-\\d{4}'\n",
    "match = re.search(pattern,text) #here even though pattern is only fpr phone number, the number is matched from the string\n",
    "print(match)"
   ]
  },
  {
   "cell_type": "markdown",
   "metadata": {},
   "source": [
    "### Using findall in re"
   ]
  },
  {
   "cell_type": "code",
   "execution_count": 104,
   "metadata": {},
   "outputs": [
    {
     "name": "stdout",
     "output_type": "stream",
     "text": [
      "['Tom', 'Jerry']\n"
     ]
    }
   ],
   "source": [
    "text = 'Tom is always behind Jerry for no reason'\n",
    "pattern = '(T\\w+|J\\w+)'\n",
    "match = re.findall(pattern,text)\n",
    "print(match)"
   ]
  },
  {
   "cell_type": "markdown",
   "metadata": {},
   "source": [
    "### NLTK RegexToknizer"
   ]
  },
  {
   "cell_type": "code",
   "execution_count": 105,
   "metadata": {},
   "outputs": [],
   "source": [
    "from nltk.tokenize import RegexpTokenizer"
   ]
  },
  {
   "cell_type": "code",
   "execution_count": 109,
   "metadata": {},
   "outputs": [
    {
     "data": {
      "text/plain": [
       "['785-254-8888']"
      ]
     },
     "execution_count": 109,
     "metadata": {},
     "output_type": "execute_result"
    }
   ],
   "source": [
    "text = 'your phone number is 785-254-8888'\n",
    "pattern = '\\d{3}-\\d{3}-\\d{4}'\n",
    "tk = RegexpTokenizer(pattern,gaps=False) #gaps=False as we need to find the token itself\n",
    "result = tk.tokenize(text)\n",
    "result\n"
   ]
  }
 ],
 "metadata": {
  "kernelspec": {
   "display_name": "Python 3.10.8 64-bit",
   "language": "python",
   "name": "python3"
  },
  "language_info": {
   "codemirror_mode": {
    "name": "ipython",
    "version": 3
   },
   "file_extension": ".py",
   "mimetype": "text/x-python",
   "name": "python",
   "nbconvert_exporter": "python",
   "pygments_lexer": "ipython3",
   "version": "3.10.8"
  },
  "orig_nbformat": 4,
  "vscode": {
   "interpreter": {
    "hash": "9f9605aacf38f8e88d0f218a5d74a0c056495fade7d8bc51608c5911ef056993"
   }
  }
 },
 "nbformat": 4,
 "nbformat_minor": 2
}
