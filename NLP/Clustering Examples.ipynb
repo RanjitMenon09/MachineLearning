{
 "cells": [
  {
   "cell_type": "markdown",
   "id": "adf61251",
   "metadata": {},
   "source": [
    "### Notebook explores some Clustering  model with a small data set, the following clustering algo will be used\n",
    "\n",
    "* Kmeans \n",
    "* hierarchical \n",
    "\n",
    "#### Data will be preprocessed to get cleaner data and following action will be preformed"
   ]
  },
  {
   "cell_type": "code",
   "execution_count": 1,
   "id": "08ae4e7c",
   "metadata": {},
   "outputs": [],
   "source": [
    "from nltk import word_tokenize\n",
    "from nltk.corpus import stopwords\n",
    "from string import punctuation \n",
    "from nltk.stem import PorterStemmer\n",
    "import pandas as pd\n",
    "import seaborn as sns\n",
    "import matplotlib.pyplot as plt"
   ]
  },
  {
   "cell_type": "markdown",
   "id": "c9e7a093",
   "metadata": {},
   "source": [
    "#### Helper method for text preprocessing, perform the following task\n",
    "\n",
    "* lowering of text\n",
    "* tokenize the word\n",
    "* remove number from text\n",
    "* use stemming (use porter stemmer)\n",
    "* remove special character\n",
    "* remove stop words"
   ]
  },
  {
   "cell_type": "code",
   "execution_count": 2,
   "id": "ef9a7696",
   "metadata": {},
   "outputs": [],
   "source": [
    "# apply preprocessing to clean the corpus \n",
    "def applyPreprocessing(text) :\n",
    "    \n",
    "    #normalize the text \n",
    "    normalized_text = text.lower()\n",
    "    \n",
    "    #word tokenize\n",
    "    tokens = word_tokenize(normalized_text)\n",
    "    \n",
    "    # Removing Numbers. as numbers do not add values in detection of spam or ham\n",
    "    tokens = [token for token in tokens if not token.isnumeric()]\n",
    "    \n",
    "     #using PorterStemmer (other alternative SnowballStemmer, LancesterStemmer, RegexpStemmer)\n",
    "    stemmer = PorterStemmer() \n",
    "    stemmed_tokens = [stemmer.stem(token) for token in tokens]\n",
    "        \n",
    "     # Removing Punctuations and Special Characters\n",
    "    filtered_tokens = [token for token in stemmed_tokens if token.isalnum()]\n",
    "    \n",
    "    #remove stop words\n",
    "    stop_words = set(stopwords.words('english')) # Remove stopwords\n",
    "    stopword_removed_tokens = [token for token in filtered_tokens if token.lower() not in stop_words]\n",
    "    \n",
    "    return ' '.join(stopword_removed_tokens)"
   ]
  },
  {
   "cell_type": "markdown",
   "id": "9558e0cf",
   "metadata": {},
   "source": [
    "#### Loading and preprocessing of data"
   ]
  },
  {
   "cell_type": "code",
   "execution_count": 3,
   "id": "b5ba5d7c",
   "metadata": {},
   "outputs": [
    {
     "data": {
      "text/html": [
       "<div>\n",
       "<style scoped>\n",
       "    .dataframe tbody tr th:only-of-type {\n",
       "        vertical-align: middle;\n",
       "    }\n",
       "\n",
       "    .dataframe tbody tr th {\n",
       "        vertical-align: top;\n",
       "    }\n",
       "\n",
       "    .dataframe thead th {\n",
       "        text-align: right;\n",
       "    }\n",
       "</style>\n",
       "<table border=\"1\" class=\"dataframe\">\n",
       "  <thead>\n",
       "    <tr style=\"text-align: right;\">\n",
       "      <th></th>\n",
       "      <th>category</th>\n",
       "      <th>smstext</th>\n",
       "      <th>processed_smstext</th>\n",
       "      <th>category_numeric</th>\n",
       "    </tr>\n",
       "  </thead>\n",
       "  <tbody>\n",
       "    <tr>\n",
       "      <th>0</th>\n",
       "      <td>ham</td>\n",
       "      <td>Go until jurong point, crazy.. Available only ...</td>\n",
       "      <td>go jurong point crazi avail onli bugi n great ...</td>\n",
       "      <td>0</td>\n",
       "    </tr>\n",
       "    <tr>\n",
       "      <th>1</th>\n",
       "      <td>ham</td>\n",
       "      <td>Ok lar... Joking wif u oni...</td>\n",
       "      <td>ok lar joke wif u oni</td>\n",
       "      <td>0</td>\n",
       "    </tr>\n",
       "    <tr>\n",
       "      <th>2</th>\n",
       "      <td>spam</td>\n",
       "      <td>Free entry in 2 a wkly comp to win FA Cup fina...</td>\n",
       "      <td>free entri wkli comp win fa cup final tkt 21st...</td>\n",
       "      <td>1</td>\n",
       "    </tr>\n",
       "    <tr>\n",
       "      <th>3</th>\n",
       "      <td>ham</td>\n",
       "      <td>U dun say so early hor... U c already then say...</td>\n",
       "      <td>u dun say earli hor u c alreadi say</td>\n",
       "      <td>0</td>\n",
       "    </tr>\n",
       "    <tr>\n",
       "      <th>4</th>\n",
       "      <td>ham</td>\n",
       "      <td>Nah I don't think he goes to usf, he lives aro...</td>\n",
       "      <td>nah think goe usf live around though</td>\n",
       "      <td>0</td>\n",
       "    </tr>\n",
       "    <tr>\n",
       "      <th>...</th>\n",
       "      <td>...</td>\n",
       "      <td>...</td>\n",
       "      <td>...</td>\n",
       "      <td>...</td>\n",
       "    </tr>\n",
       "    <tr>\n",
       "      <th>5567</th>\n",
       "      <td>spam</td>\n",
       "      <td>This is the 2nd time we have tried 2 contact u...</td>\n",
       "      <td>thi 2nd time tri contact u pound prize claim e...</td>\n",
       "      <td>1</td>\n",
       "    </tr>\n",
       "    <tr>\n",
       "      <th>5568</th>\n",
       "      <td>ham</td>\n",
       "      <td>Will ü b going to esplanade fr home?</td>\n",
       "      <td>ü b go esplanad fr home</td>\n",
       "      <td>0</td>\n",
       "    </tr>\n",
       "    <tr>\n",
       "      <th>5569</th>\n",
       "      <td>ham</td>\n",
       "      <td>Pity, * was in mood for that. So...any other s...</td>\n",
       "      <td>piti wa mood ani suggest</td>\n",
       "      <td>0</td>\n",
       "    </tr>\n",
       "    <tr>\n",
       "      <th>5570</th>\n",
       "      <td>ham</td>\n",
       "      <td>The guy did some bitching but I acted like i'd...</td>\n",
       "      <td>guy bitch act like interest buy someth els nex...</td>\n",
       "      <td>0</td>\n",
       "    </tr>\n",
       "    <tr>\n",
       "      <th>5571</th>\n",
       "      <td>ham</td>\n",
       "      <td>Rofl. Its true to its name</td>\n",
       "      <td>rofl true name</td>\n",
       "      <td>0</td>\n",
       "    </tr>\n",
       "  </tbody>\n",
       "</table>\n",
       "<p>5572 rows × 4 columns</p>\n",
       "</div>"
      ],
      "text/plain": [
       "     category                                            smstext  \\\n",
       "0         ham  Go until jurong point, crazy.. Available only ...   \n",
       "1         ham                      Ok lar... Joking wif u oni...   \n",
       "2        spam  Free entry in 2 a wkly comp to win FA Cup fina...   \n",
       "3         ham  U dun say so early hor... U c already then say...   \n",
       "4         ham  Nah I don't think he goes to usf, he lives aro...   \n",
       "...       ...                                                ...   \n",
       "5567     spam  This is the 2nd time we have tried 2 contact u...   \n",
       "5568      ham               Will ü b going to esplanade fr home?   \n",
       "5569      ham  Pity, * was in mood for that. So...any other s...   \n",
       "5570      ham  The guy did some bitching but I acted like i'd...   \n",
       "5571      ham                         Rofl. Its true to its name   \n",
       "\n",
       "                                      processed_smstext  category_numeric  \n",
       "0     go jurong point crazi avail onli bugi n great ...                 0  \n",
       "1                                 ok lar joke wif u oni                 0  \n",
       "2     free entri wkli comp win fa cup final tkt 21st...                 1  \n",
       "3                   u dun say earli hor u c alreadi say                 0  \n",
       "4                  nah think goe usf live around though                 0  \n",
       "...                                                 ...               ...  \n",
       "5567  thi 2nd time tri contact u pound prize claim e...                 1  \n",
       "5568                            ü b go esplanad fr home                 0  \n",
       "5569                           piti wa mood ani suggest                 0  \n",
       "5570  guy bitch act like interest buy someth els nex...                 0  \n",
       "5571                                     rofl true name                 0  \n",
       "\n",
       "[5572 rows x 4 columns]"
      ]
     },
     "execution_count": 3,
     "metadata": {},
     "output_type": "execute_result"
    }
   ],
   "source": [
    "# Load the file\n",
    "df = pd.read_csv('files/smsspamcollection/SMSSpamCollection', delimiter='\\t', header=None, names=['category', 'smstext'])\n",
    "\n",
    "df['processed_smstext'] = df['smstext'].apply(applyPreprocessing)\n",
    "\n",
    "# Convert the 'category' column to numeric representation\n",
    "df['category_numeric'] = df['category'].astype('category').cat.codes\n",
    "df"
   ]
  },
  {
   "cell_type": "markdown",
   "id": "191bb2a5",
   "metadata": {},
   "source": [
    "#### TfIdf vectorizer to conver the data into vector, we wil be considering only feature field as no target field will be there for clustering"
   ]
  },
  {
   "cell_type": "code",
   "execution_count": 4,
   "id": "8cff4a1d",
   "metadata": {},
   "outputs": [
    {
     "name": "stdout",
     "output_type": "stream",
     "text": [
      "(5572, 6317)\n"
     ]
    }
   ],
   "source": [
    "from sklearn.feature_extraction.text import TfidfVectorizer\n",
    "tfidf_vectorizer = TfidfVectorizer()\n",
    "\n",
    "X = tfidf_vectorizer.fit_transform(df[\"processed_smstext\"]) # this will be feature variable\n",
    "\n",
    "print(X.shape )\n"
   ]
  },
  {
   "cell_type": "markdown",
   "id": "c563b7ab",
   "metadata": {},
   "source": [
    "#### Apply kmeans model and find how close the data can be identified"
   ]
  },
  {
   "cell_type": "code",
   "execution_count": 5,
   "id": "cc2d2495",
   "metadata": {},
   "outputs": [
    {
     "name": "stderr",
     "output_type": "stream",
     "text": [
      "C:\\Users\\ranjit09\\AppData\\Local\\Programs\\Python\\Python311\\Lib\\site-packages\\sklearn\\cluster\\_kmeans.py:870: FutureWarning: The default value of `n_init` will change from 10 to 'auto' in 1.4. Set the value of `n_init` explicitly to suppress the warning\n",
      "  warnings.warn(\n"
     ]
    },
    {
     "data": {
      "text/plain": [
       "array([0, 0, 0, ..., 0, 0, 0])"
      ]
     },
     "execution_count": 5,
     "metadata": {},
     "output_type": "execute_result"
    }
   ],
   "source": [
    "from sklearn.cluster import KMeans\n",
    "k = 2  #this number can be tweaked or we can use elbow method to find the optimal cluster\n",
    "model = KMeans(n_clusters=k)\n",
    "model.fit(X)\n",
    "\n",
    "#the label that will be identified by the kmeans model\n",
    "labels=model.labels_\n",
    "labels"
   ]
  },
  {
   "cell_type": "markdown",
   "id": "74277583",
   "metadata": {},
   "source": [
    "#### Output the data and compare with the actual data to see the accuracy of kmeans cluster"
   ]
  },
  {
   "cell_type": "code",
   "execution_count": 6,
   "id": "8cd8f611",
   "metadata": {},
   "outputs": [
    {
     "data": {
      "text/html": [
       "<div>\n",
       "<style scoped>\n",
       "    .dataframe tbody tr th:only-of-type {\n",
       "        vertical-align: middle;\n",
       "    }\n",
       "\n",
       "    .dataframe tbody tr th {\n",
       "        vertical-align: top;\n",
       "    }\n",
       "\n",
       "    .dataframe thead th {\n",
       "        text-align: right;\n",
       "    }\n",
       "</style>\n",
       "<table border=\"1\" class=\"dataframe\">\n",
       "  <thead>\n",
       "    <tr style=\"text-align: right;\">\n",
       "      <th></th>\n",
       "      <th>actual_category_numeric</th>\n",
       "      <th>identified_cluster</th>\n",
       "    </tr>\n",
       "  </thead>\n",
       "  <tbody>\n",
       "    <tr>\n",
       "      <th>0</th>\n",
       "      <td>0</td>\n",
       "      <td>0</td>\n",
       "    </tr>\n",
       "    <tr>\n",
       "      <th>1</th>\n",
       "      <td>0</td>\n",
       "      <td>0</td>\n",
       "    </tr>\n",
       "    <tr>\n",
       "      <th>2</th>\n",
       "      <td>1</td>\n",
       "      <td>0</td>\n",
       "    </tr>\n",
       "    <tr>\n",
       "      <th>3</th>\n",
       "      <td>0</td>\n",
       "      <td>0</td>\n",
       "    </tr>\n",
       "    <tr>\n",
       "      <th>4</th>\n",
       "      <td>0</td>\n",
       "      <td>0</td>\n",
       "    </tr>\n",
       "    <tr>\n",
       "      <th>...</th>\n",
       "      <td>...</td>\n",
       "      <td>...</td>\n",
       "    </tr>\n",
       "    <tr>\n",
       "      <th>5567</th>\n",
       "      <td>1</td>\n",
       "      <td>1</td>\n",
       "    </tr>\n",
       "    <tr>\n",
       "      <th>5568</th>\n",
       "      <td>0</td>\n",
       "      <td>0</td>\n",
       "    </tr>\n",
       "    <tr>\n",
       "      <th>5569</th>\n",
       "      <td>0</td>\n",
       "      <td>0</td>\n",
       "    </tr>\n",
       "    <tr>\n",
       "      <th>5570</th>\n",
       "      <td>0</td>\n",
       "      <td>0</td>\n",
       "    </tr>\n",
       "    <tr>\n",
       "      <th>5571</th>\n",
       "      <td>0</td>\n",
       "      <td>0</td>\n",
       "    </tr>\n",
       "  </tbody>\n",
       "</table>\n",
       "<p>5572 rows × 2 columns</p>\n",
       "</div>"
      ],
      "text/plain": [
       "      actual_category_numeric  identified_cluster\n",
       "0                           0                   0\n",
       "1                           0                   0\n",
       "2                           1                   0\n",
       "3                           0                   0\n",
       "4                           0                   0\n",
       "...                       ...                 ...\n",
       "5567                        1                   1\n",
       "5568                        0                   0\n",
       "5569                        0                   0\n",
       "5570                        0                   0\n",
       "5571                        0                   0\n",
       "\n",
       "[5572 rows x 2 columns]"
      ]
     },
     "execution_count": 6,
     "metadata": {},
     "output_type": "execute_result"
    }
   ],
   "source": [
    "data=pd.DataFrame(list(zip(df.category_numeric,labels)),columns=['actual_category_numeric','identified_cluster'])\n",
    "\n",
    "#pd.set_option(\"display.max_rows\", None)\n",
    "data"
   ]
  },
  {
   "cell_type": "markdown",
   "id": "8aaa361d",
   "metadata": {},
   "source": [
    "#### Show the difference and simmilarity between this two finding using seaborn map"
   ]
  },
  {
   "cell_type": "code",
   "execution_count": 7,
   "id": "9bd35871",
   "metadata": {},
   "outputs": [
    {
     "data": {
      "image/png": "[encoded data removed]",
      "text/plain": [
       "<Figure size 640x480 with 2 Axes>"
      ]
     },
     "metadata": {},
     "output_type": "display_data"
    }
   ],
   "source": [
    "# Compute the correlation matrix\n",
    "corr_matrix = data.corr()\n",
    "\n",
    "# Plot the correlation matrix as a heatmap\n",
    "sns.heatmap(corr_matrix, annot=True, cmap='Pastel1')\n",
    "\n",
    "# Show the plot\n",
    "plt.show()\n"
   ]
  },
  {
   "cell_type": "markdown",
   "id": "f16ad7cd",
   "metadata": {},
   "source": [
    "#### Apply the above data to a AgglomerativeClustering"
   ]
  },
  {
   "cell_type": "code",
   "execution_count": 8,
   "id": "01f61835",
   "metadata": {},
   "outputs": [
    {
     "name": "stdout",
     "output_type": "stream",
     "text": [
      "[0 0 0 ... 0 0 0]\n"
     ]
    }
   ],
   "source": [
    "from sklearn.cluster import AgglomerativeClustering\n",
    "k = 2 # two as i have only two category\n",
    "agglo_model = AgglomerativeClustering(k,linkage='ward')\n",
    "agglo_model.fit(X.toarray())   #the X i am getting it from above, after converting to vector using tfIdf\n",
    "\n",
    "labels=agglo_model.labels_\n",
    "print(labels)"
   ]
  },
  {
   "cell_type": "code",
   "execution_count": 9,
   "id": "59a2269c",
   "metadata": {},
   "outputs": [
    {
     "data": {
      "text/html": [
       "<div>\n",
       "<style scoped>\n",
       "    .dataframe tbody tr th:only-of-type {\n",
       "        vertical-align: middle;\n",
       "    }\n",
       "\n",
       "    .dataframe tbody tr th {\n",
       "        vertical-align: top;\n",
       "    }\n",
       "\n",
       "    .dataframe thead th {\n",
       "        text-align: right;\n",
       "    }\n",
       "</style>\n",
       "<table border=\"1\" class=\"dataframe\">\n",
       "  <thead>\n",
       "    <tr style=\"text-align: right;\">\n",
       "      <th></th>\n",
       "      <th>actual_category_numeric</th>\n",
       "      <th>identified_cluster</th>\n",
       "    </tr>\n",
       "  </thead>\n",
       "  <tbody>\n",
       "    <tr>\n",
       "      <th>0</th>\n",
       "      <td>0</td>\n",
       "      <td>0</td>\n",
       "    </tr>\n",
       "    <tr>\n",
       "      <th>1</th>\n",
       "      <td>0</td>\n",
       "      <td>0</td>\n",
       "    </tr>\n",
       "    <tr>\n",
       "      <th>2</th>\n",
       "      <td>1</td>\n",
       "      <td>0</td>\n",
       "    </tr>\n",
       "    <tr>\n",
       "      <th>3</th>\n",
       "      <td>0</td>\n",
       "      <td>0</td>\n",
       "    </tr>\n",
       "    <tr>\n",
       "      <th>4</th>\n",
       "      <td>0</td>\n",
       "      <td>0</td>\n",
       "    </tr>\n",
       "    <tr>\n",
       "      <th>...</th>\n",
       "      <td>...</td>\n",
       "      <td>...</td>\n",
       "    </tr>\n",
       "    <tr>\n",
       "      <th>5567</th>\n",
       "      <td>1</td>\n",
       "      <td>0</td>\n",
       "    </tr>\n",
       "    <tr>\n",
       "      <th>5568</th>\n",
       "      <td>0</td>\n",
       "      <td>0</td>\n",
       "    </tr>\n",
       "    <tr>\n",
       "      <th>5569</th>\n",
       "      <td>0</td>\n",
       "      <td>0</td>\n",
       "    </tr>\n",
       "    <tr>\n",
       "      <th>5570</th>\n",
       "      <td>0</td>\n",
       "      <td>0</td>\n",
       "    </tr>\n",
       "    <tr>\n",
       "      <th>5571</th>\n",
       "      <td>0</td>\n",
       "      <td>0</td>\n",
       "    </tr>\n",
       "  </tbody>\n",
       "</table>\n",
       "<p>5572 rows × 2 columns</p>\n",
       "</div>"
      ],
      "text/plain": [
       "      actual_category_numeric  identified_cluster\n",
       "0                           0                   0\n",
       "1                           0                   0\n",
       "2                           1                   0\n",
       "3                           0                   0\n",
       "4                           0                   0\n",
       "...                       ...                 ...\n",
       "5567                        1                   0\n",
       "5568                        0                   0\n",
       "5569                        0                   0\n",
       "5570                        0                   0\n",
       "5571                        0                   0\n",
       "\n",
       "[5572 rows x 2 columns]"
      ]
     },
     "execution_count": 9,
     "metadata": {},
     "output_type": "execute_result"
    }
   ],
   "source": [
    "data=pd.DataFrame(list(zip(df.category_numeric,labels)),columns=['actual_category_numeric','identified_cluster'])\n",
    "\n",
    "#pd.set_option(\"display.max_rows\", None)\n",
    "data"
   ]
  },
  {
   "cell_type": "markdown",
   "id": "aee5f3d1",
   "metadata": {},
   "source": []
  },
  {
   "cell_type": "code",
   "execution_count": null,
   "id": "c3f00bc6",
   "metadata": {},
   "outputs": [],
   "source": []
  },
  {
   "cell_type": "code",
   "execution_count": null,
   "id": "870ffcf3",
   "metadata": {},
   "outputs": [],
   "source": []
  }
 ],
 "metadata": {
  "kernelspec": {
   "display_name": "Python 3 (ipykernel)",
   "language": "python",
   "name": "python3"
  },
  "language_info": {
   "codemirror_mode": {
    "name": "ipython",
    "version": 3
   },
   "file_extension": ".py",
   "mimetype": "text/x-python",
   "name": "python",
   "nbconvert_exporter": "python",
   "pygments_lexer": "ipython3",
   "version": "3.11.1"
  }
 },
 "nbformat": 4,
 "nbformat_minor": 5
}
