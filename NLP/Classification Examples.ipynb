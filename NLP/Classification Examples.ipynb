{
 "cells": [
  {
   "cell_type": "markdown",
   "id": "671ef8c0",
   "metadata": {},
   "source": [
    "### Notebook explores some Classfication models with a small data set, the following classification will be perfomed \n",
    "\n",
    "* kNN \n",
    "* SVM \n",
    "* Naive Bayes\n",
    "\n",
    "#### Data will be preprocessed to get cleaner data and following action will be preformed\n"
   ]
  },
  {
   "cell_type": "markdown",
   "id": "4291b4da",
   "metadata": {},
   "source": [
    "#### import libraries required in notebook"
   ]
  },
  {
   "cell_type": "code",
   "execution_count": 1,
   "id": "67a103a1",
   "metadata": {},
   "outputs": [],
   "source": [
    "from nltk import word_tokenize\n",
    "from nltk.corpus import stopwords\n",
    "from string import punctuation \n",
    "from nltk.stem import PorterStemmer\n",
    "import pandas as pd\n",
    "import matplotlib.pyplot as plt\n",
    "import seaborn as sns\n",
    "from mlxtend.plotting import plot_confusion_matrix\n",
    "from pickle import dump"
   ]
  },
  {
   "cell_type": "markdown",
   "id": "34b36b14",
   "metadata": {},
   "source": [
    "#### Utility methods for Text-Preprocessing"
   ]
  },
  {
   "cell_type": "code",
   "execution_count": 2,
   "id": "6fb48d58",
   "metadata": {},
   "outputs": [],
   "source": [
    "# apply preprocessing to clean the corpus \n",
    "def applyPreprocessing(text) :\n",
    "    \n",
    "    #normalize the text \n",
    "    normalized_text = text.lower()\n",
    "    \n",
    "    #word tokenize\n",
    "    tokens = word_tokenize(normalized_text)\n",
    "    \n",
    "    # Removing Numbers. as numbers do not add values in detection of spam or ham\n",
    "    tokens = [token for token in tokens if not token.isnumeric()]\n",
    "    \n",
    "     #using PorterStemmer (other alternative SnowballStemmer, LancesterStemmer, RegexpStemmer)\n",
    "    stemmer = PorterStemmer() \n",
    "    stemmed_tokens = [stemmer.stem(token) for token in tokens]\n",
    "        \n",
    "     # Removing Punctuations and Special Characters\n",
    "    filtered_tokens = [token for token in stemmed_tokens if token.isalnum()]\n",
    "    \n",
    "    #remove stop words\n",
    "    stop_words = set(stopwords.words('english')) # Remove stopwords\n",
    "    stopword_removed_tokens = [token for token in filtered_tokens if token.lower() not in stop_words]\n",
    "    \n",
    "    return ' '.join(stopword_removed_tokens)"
   ]
  },
  {
   "cell_type": "markdown",
   "id": "b24928b3",
   "metadata": {},
   "source": [
    "#### Load the file and perform preprocessing and save the new preprocessed into a seperate column"
   ]
  },
  {
   "cell_type": "code",
   "execution_count": 3,
   "id": "d6fa40e4",
   "metadata": {},
   "outputs": [
    {
     "data": {
      "text/html": [
       "<div>\n",
       "<style scoped>\n",
       "    .dataframe tbody tr th:only-of-type {\n",
       "        vertical-align: middle;\n",
       "    }\n",
       "\n",
       "    .dataframe tbody tr th {\n",
       "        vertical-align: top;\n",
       "    }\n",
       "\n",
       "    .dataframe thead th {\n",
       "        text-align: right;\n",
       "    }\n",
       "</style>\n",
       "<table border=\"1\" class=\"dataframe\">\n",
       "  <thead>\n",
       "    <tr style=\"text-align: right;\">\n",
       "      <th></th>\n",
       "      <th>category</th>\n",
       "      <th>smstext</th>\n",
       "      <th>processed_smstext</th>\n",
       "      <th>category_numeric</th>\n",
       "    </tr>\n",
       "  </thead>\n",
       "  <tbody>\n",
       "    <tr>\n",
       "      <th>0</th>\n",
       "      <td>ham</td>\n",
       "      <td>Go until jurong point, crazy.. Available only ...</td>\n",
       "      <td>go jurong point crazi avail onli bugi n great ...</td>\n",
       "      <td>0</td>\n",
       "    </tr>\n",
       "    <tr>\n",
       "      <th>1</th>\n",
       "      <td>ham</td>\n",
       "      <td>Ok lar... Joking wif u oni...</td>\n",
       "      <td>ok lar joke wif u oni</td>\n",
       "      <td>0</td>\n",
       "    </tr>\n",
       "    <tr>\n",
       "      <th>2</th>\n",
       "      <td>spam</td>\n",
       "      <td>Free entry in 2 a wkly comp to win FA Cup fina...</td>\n",
       "      <td>free entri wkli comp win fa cup final tkt 21st...</td>\n",
       "      <td>1</td>\n",
       "    </tr>\n",
       "    <tr>\n",
       "      <th>3</th>\n",
       "      <td>ham</td>\n",
       "      <td>U dun say so early hor... U c already then say...</td>\n",
       "      <td>u dun say earli hor u c alreadi say</td>\n",
       "      <td>0</td>\n",
       "    </tr>\n",
       "    <tr>\n",
       "      <th>4</th>\n",
       "      <td>ham</td>\n",
       "      <td>Nah I don't think he goes to usf, he lives aro...</td>\n",
       "      <td>nah think goe usf live around though</td>\n",
       "      <td>0</td>\n",
       "    </tr>\n",
       "    <tr>\n",
       "      <th>...</th>\n",
       "      <td>...</td>\n",
       "      <td>...</td>\n",
       "      <td>...</td>\n",
       "      <td>...</td>\n",
       "    </tr>\n",
       "    <tr>\n",
       "      <th>5567</th>\n",
       "      <td>spam</td>\n",
       "      <td>This is the 2nd time we have tried 2 contact u...</td>\n",
       "      <td>thi 2nd time tri contact u pound prize claim e...</td>\n",
       "      <td>1</td>\n",
       "    </tr>\n",
       "    <tr>\n",
       "      <th>5568</th>\n",
       "      <td>ham</td>\n",
       "      <td>Will ü b going to esplanade fr home?</td>\n",
       "      <td>ü b go esplanad fr home</td>\n",
       "      <td>0</td>\n",
       "    </tr>\n",
       "    <tr>\n",
       "      <th>5569</th>\n",
       "      <td>ham</td>\n",
       "      <td>Pity, * was in mood for that. So...any other s...</td>\n",
       "      <td>piti wa mood ani suggest</td>\n",
       "      <td>0</td>\n",
       "    </tr>\n",
       "    <tr>\n",
       "      <th>5570</th>\n",
       "      <td>ham</td>\n",
       "      <td>The guy did some bitching but I acted like i'd...</td>\n",
       "      <td>guy bitch act like interest buy someth els nex...</td>\n",
       "      <td>0</td>\n",
       "    </tr>\n",
       "    <tr>\n",
       "      <th>5571</th>\n",
       "      <td>ham</td>\n",
       "      <td>Rofl. Its true to its name</td>\n",
       "      <td>rofl true name</td>\n",
       "      <td>0</td>\n",
       "    </tr>\n",
       "  </tbody>\n",
       "</table>\n",
       "<p>5572 rows × 4 columns</p>\n",
       "</div>"
      ],
      "text/plain": [
       "     category                                            smstext  \\\n",
       "0         ham  Go until jurong point, crazy.. Available only ...   \n",
       "1         ham                      Ok lar... Joking wif u oni...   \n",
       "2        spam  Free entry in 2 a wkly comp to win FA Cup fina...   \n",
       "3         ham  U dun say so early hor... U c already then say...   \n",
       "4         ham  Nah I don't think he goes to usf, he lives aro...   \n",
       "...       ...                                                ...   \n",
       "5567     spam  This is the 2nd time we have tried 2 contact u...   \n",
       "5568      ham               Will ü b going to esplanade fr home?   \n",
       "5569      ham  Pity, * was in mood for that. So...any other s...   \n",
       "5570      ham  The guy did some bitching but I acted like i'd...   \n",
       "5571      ham                         Rofl. Its true to its name   \n",
       "\n",
       "                                      processed_smstext  category_numeric  \n",
       "0     go jurong point crazi avail onli bugi n great ...                 0  \n",
       "1                                 ok lar joke wif u oni                 0  \n",
       "2     free entri wkli comp win fa cup final tkt 21st...                 1  \n",
       "3                   u dun say earli hor u c alreadi say                 0  \n",
       "4                  nah think goe usf live around though                 0  \n",
       "...                                                 ...               ...  \n",
       "5567  thi 2nd time tri contact u pound prize claim e...                 1  \n",
       "5568                            ü b go esplanad fr home                 0  \n",
       "5569                           piti wa mood ani suggest                 0  \n",
       "5570  guy bitch act like interest buy someth els nex...                 0  \n",
       "5571                                     rofl true name                 0  \n",
       "\n",
       "[5572 rows x 4 columns]"
      ]
     },
     "execution_count": 3,
     "metadata": {},
     "output_type": "execute_result"
    }
   ],
   "source": [
    "# Load the file\n",
    "df = pd.read_csv('files/smsspamcollection/SMSSpamCollection', delimiter='\\t', header=None, names=['category', 'smstext'])\n",
    "\n",
    "df['processed_smstext'] = df['smstext'].apply(applyPreprocessing)\n",
    "\n",
    "# Convert the 'category' column to numeric representation\n",
    "df['category_numeric'] = df['category'].astype('category').cat.codes\n",
    "df"
   ]
  },
  {
   "cell_type": "markdown",
   "id": "68d5489d",
   "metadata": {},
   "source": [
    "#### Show the distribution of data to see how the ham/spam is distributed in the file"
   ]
  },
  {
   "cell_type": "code",
   "execution_count": 4,
   "id": "c84f7528",
   "metadata": {},
   "outputs": [
    {
     "data": {
      "image/png": "[encoded data removed]",
      "text/plain": [
       "<Figure size 800x600 with 1 Axes>"
      ]
     },
     "metadata": {},
     "output_type": "display_data"
    }
   ],
   "source": [
    "#sns to show the distributionl, the result is not good, need to get more spam dataset\n",
    "plt.figure(figsize=(8,6))\n",
    "sns.countplot(x='category', data=df, palette='viridis')\n",
    "plt.show()"
   ]
  },
  {
   "cell_type": "markdown",
   "id": "e8a0ecd3",
   "metadata": {},
   "source": [
    "#### Use TFIDF vectorizer to vectorize the text data for processing in machine learning"
   ]
  },
  {
   "cell_type": "code",
   "execution_count": 5,
   "id": "a362c228",
   "metadata": {},
   "outputs": [
    {
     "name": "stdout",
     "output_type": "stream",
     "text": [
      "(5572, 6317)\n",
      "(5572,)\n"
     ]
    }
   ],
   "source": [
    "from sklearn.feature_extraction.text import TfidfVectorizer\n",
    "tfidf_vectorizer = TfidfVectorizer()\n",
    "\n",
    "X = tfidf_vectorizer.fit_transform(df[\"processed_smstext\"]) # this will be feature variable\n",
    "y = df['category_numeric']  # target variable \n",
    "\n",
    "#this is a sparse vector and need to use SVD or PCA to convert this into dense vector and try with that dataset too, this will  done\n",
    "#later\n",
    "print(X.shape )\n",
    "print(y.shape )\n",
    "\n",
    "#dump the vectorizer for future use with unseen data\n",
    "dump(tfidf_vectorizer,open('model/tfidf.pkl', 'wb'))"
   ]
  },
  {
   "cell_type": "markdown",
   "id": "f3376c96",
   "metadata": {},
   "source": [
    "#### Use kNN classifier to train and test the data, this will classify spam/ham, the data will be split with 70:30 ratio, in this 30 will be test data, the model will be saved for future use\n",
    "\n",
    "#### usually the distribution should be 70:30 or 80:20 and using cross validation will give better result, but here i noticed , i was not getting right prediction , may be one reason could be my data set is not highly biased and it is having more ham then spam, so i reduced the test percentage"
   ]
  },
  {
   "cell_type": "code",
   "execution_count": 35,
   "id": "625ab94e",
   "metadata": {},
   "outputs": [
    {
     "name": "stdout",
     "output_type": "stream",
     "text": [
      "*************** Output the shape of data *******************\n",
      "(3900, 6317)\n",
      "(1672, 6317)\n",
      "(3900,)\n",
      "(1672,)\n",
      "***************************************************************\n",
      "\n",
      "Training Score = 1.0 ----------- Test Score = 0.930622009569378\n",
      "\n",
      "accuracy score = 0.930622009569378\n"
     ]
    },
    {
     "data": {
      "image/png": "[encoded data removed]",
      "text/plain": [
       "<Figure size 500x500 with 1 Axes>"
      ]
     },
     "metadata": {},
     "output_type": "display_data"
    }
   ],
   "source": [
    "from sklearn.model_selection import train_test_split\n",
    "from sklearn.neighbors import KNeighborsClassifier\n",
    "from sklearn.metrics import accuracy_score,confusion_matrix\n",
    "\n",
    "#changed the test to only 10% not a good approach, but will work with this later with a different dataset which has equal balance \n",
    "#in spam and ham\n",
    "X_train, X_test, y_train, y_test =  train_test_split(X, y, test_size = .3, shuffle = True, stratify = y,random_state = 3)\n",
    "\n",
    "print('*************** Output the shape of data *******************')\n",
    "print(X_train.shape)\n",
    "print(X_test.shape)\n",
    "print(y_train.shape)\n",
    "print(y_test.shape)\n",
    "print('***************************************************************')\n",
    "\n",
    "#apply kNN classifier\n",
    "knn = KNeighborsClassifier(n_neighbors=5, weights='distance', metric='euclidean')\n",
    "knn.fit(X_train,y_train)\n",
    "\n",
    "#check the score\n",
    "print()\n",
    "print(f\"Training Score = {knn.score(X_train,y_train)} ----------- Test Score = {knn.score(X_test,y_test)}\")\n",
    "print()\n",
    "\n",
    "y_predict = knn.predict(X_test)\n",
    "\n",
    "#output accuracy score on the predicted data\n",
    "acc_score = accuracy_score(y_test,y_predict)\n",
    "print(f\"accuracy score = {acc_score}\")\n",
    "\n",
    "#output a confusion matrix to find out the true positive and false postive\n",
    "conf_matrix = confusion_matrix(y_test,y_predict)\n",
    "\n",
    "#show the confusion matrix in a chart\n",
    "\n",
    "ax = plot_confusion_matrix(conf_mat=conf_matrix, figsize=(5, 5), cmap=plt.cm.Accent)\n",
    "plt.xlabel('Predictions', fontsize=18)\n",
    "plt.ylabel('Actuals', fontsize=18)\n",
    "plt.title('Confusion Matrix', fontsize=18)\n",
    "plt.show()\n",
    "\n",
    "#save the knn model, this will be used for future prediction\n",
    "dump(knn, open('model/knn_model.pkl', 'wb'))"
   ]
  },
  {
   "cell_type": "markdown",
   "id": "7446921c",
   "metadata": {},
   "source": [
    "###  Run a test for kNN Classifier with a new set of data and see how the model performs"
   ]
  },
  {
   "cell_type": "code",
   "execution_count": 36,
   "id": "d45baf83",
   "metadata": {},
   "outputs": [
    {
     "data": {
      "text/plain": [
       "'ham'"
      ]
     },
     "execution_count": 36,
     "metadata": {},
     "output_type": "execute_result"
    }
   ],
   "source": [
    "from pickle import load\n",
    "\n",
    "#text = \"WINNER!! As a valued network customer you have been selected to receivea £900 prize reward! To claim call 09061701461. Claim code KL341. Valid 12 hours only.\"\n",
    "text = 'Winner!! life time opportunity fly free to Maldives, no ticket cost, hurry up call me to get this deal @897458221'\n",
    "\n",
    "#load the tfid and knn from the pickle file \n",
    "tfidf_vectorizer = load(open('model/tfidf.pkl', 'rb'))\n",
    "knn = load(open('model/knn_model.pkl', 'rb'))\n",
    "\n",
    "processed_text = applyPreprocessing(text)\n",
    "\n",
    "#vectorize the processed text\n",
    "vec_data = tfidf_vectorizer.transform([processed_text])\n",
    "\n",
    "#predict if this is spam or ham\n",
    "y_predict = knn.predict(vec_data)\n",
    "\n",
    "#category class\n",
    "category_cls = {0:'ham',1:'spam'}\n",
    "category_cls[y_predict[0]]"
   ]
  },
  {
   "cell_type": "markdown",
   "id": "9e21157b",
   "metadata": {},
   "source": [
    "### Use Naive Bayes to find spam/ham. lets see how this fair better then kNN"
   ]
  },
  {
   "cell_type": "code",
   "execution_count": 17,
   "id": "e49c8da6",
   "metadata": {},
   "outputs": [
    {
     "name": "stdout",
     "output_type": "stream",
     "text": [
      "*************** Output the shape of data *******************\n",
      "(3900, 6317)\n",
      "(1672, 6317)\n",
      "(3900,)\n",
      "(1672,)\n",
      "***************************************************************\n",
      "\n",
      "Training Score = 0.9707692307692307 ----------- Test Score = 0.9581339712918661\n",
      "\n",
      "accuracy score = 0.9581339712918661\n"
     ]
    },
    {
     "data": {
      "image/png": "[encoded data removed]",
      "text/plain": [
       "<Figure size 500x500 with 1 Axes>"
      ]
     },
     "metadata": {},
     "output_type": "display_data"
    }
   ],
   "source": [
    "from sklearn.model_selection import train_test_split\n",
    "from sklearn.naive_bayes import MultinomialNB\n",
    "from sklearn.metrics import accuracy_score,confusion_matrix\n",
    "\n",
    "#changed the test to only 10% not a good approach, but will work with this later with a different dataset which has equal balance \n",
    "#in spam and ham\n",
    "X_train, X_test, y_train, y_test =  train_test_split(X, y, test_size = .3, shuffle = True, stratify = y,random_state = 3)\n",
    "\n",
    "print('*************** Output the shape of data *******************')\n",
    "print(X_train.shape)\n",
    "print(X_test.shape)\n",
    "print(y_train.shape)\n",
    "print(y_test.shape)\n",
    "print('***************************************************************')\n",
    "\n",
    "#apply multinomialNB classifier\n",
    "mnb = MultinomialNB()\n",
    "mnb.fit(X_train,y_train)\n",
    "\n",
    "#check the score\n",
    "print()\n",
    "print(f\"Training Score = {mnb.score(X_train,y_train)} ----------- Test Score = {mnb.score(X_test,y_test)}\")\n",
    "print()\n",
    "\n",
    "y_predict = mnb.predict(X_test)\n",
    "\n",
    "#output accuracy score on the predicted data\n",
    "acc_score = accuracy_score(y_test,y_predict)\n",
    "print(f\"accuracy score = {acc_score}\")\n",
    "\n",
    "#output a confusion matrix to find out the true positive and false postive\n",
    "conf_matrix = confusion_matrix(y_test,y_predict)\n",
    "\n",
    "#show the confusion matrix in a chart\n",
    "\n",
    "ax = plot_confusion_matrix(conf_mat=conf_matrix, figsize=(5, 5), cmap=plt.cm.Accent)\n",
    "plt.xlabel('Predictions', fontsize=18)\n",
    "plt.ylabel('Actuals', fontsize=18)\n",
    "plt.title('Confusion Matrix', fontsize=18)\n",
    "plt.show()\n",
    "\n",
    "#save the knn model, this will be used for future prediction\n",
    "dump(mnb, open('model/mnb_model.pkl', 'wb'))"
   ]
  },
  {
   "cell_type": "markdown",
   "id": "329b9c91",
   "metadata": {},
   "source": [
    "### Run a test with Naive Bayes classifier with the model"
   ]
  },
  {
   "cell_type": "code",
   "execution_count": 26,
   "id": "fc2b966c",
   "metadata": {},
   "outputs": [
    {
     "data": {
      "text/plain": [
       "'ham'"
      ]
     },
     "execution_count": 26,
     "metadata": {},
     "output_type": "execute_result"
    }
   ],
   "source": [
    "from pickle import load\n",
    "\n",
    "#text = \"WINNER!! As a valued network customer you have been selected to receivea £900 prize reward! To claim call 09061701461. Claim code KL341. Valid 12 hours only.\"\n",
    "text = 'Winner!! You won free trip to Maldives hurry up call me to get this deal @897458221'\n",
    "\n",
    "#load the tfid and knn from the pickle file \n",
    "tfidf_vectorizer = load(open('model/tfidf.pkl', 'rb'))\n",
    "knn = load(open('model/mnb_model.pkl', 'rb'))\n",
    "\n",
    "processed_text = applyPreprocessing(text)\n",
    "\n",
    "#vectorize the processed text\n",
    "vec_data = tfidf_vectorizer.transform([processed_text])\n",
    "\n",
    "#predict if this is spam or ham\n",
    "y_predict = knn.predict(vec_data)\n",
    "\n",
    "#category class\n",
    "category_cls = {0:'ham',1:'spam'}\n",
    "category_cls[y_predict[0]]"
   ]
  },
  {
   "cell_type": "markdown",
   "id": "79d5a896",
   "metadata": {},
   "source": [
    "### Use SVM to find spam/ham. lets see how this fair better then kNN and Naive Bayes"
   ]
  },
  {
   "cell_type": "code",
   "execution_count": 40,
   "id": "4cbd3957",
   "metadata": {},
   "outputs": [
    {
     "name": "stdout",
     "output_type": "stream",
     "text": [
      "*************** Output the shape of data *******************\n",
      "(3900, 6317)\n",
      "(1672, 6317)\n",
      "(3900,)\n",
      "(1672,)\n",
      "***************************************************************\n",
      "\n",
      "Training Score = 0.9964102564102564 ----------- Test Score = 0.9700956937799043\n",
      "\n",
      "accuracy score = 0.9700956937799043\n"
     ]
    },
    {
     "data": {
      "image/png": "[encoded data removed]",
      "text/plain": [
       "<Figure size 500x500 with 1 Axes>"
      ]
     },
     "metadata": {},
     "output_type": "display_data"
    }
   ],
   "source": [
    "from sklearn.model_selection import train_test_split\n",
    "from sklearn.svm import SVC\n",
    "from sklearn.metrics import accuracy_score,confusion_matrix\n",
    "\n",
    "#changed the test to only 10% not a good approach, but will work with this later with a different dataset which has equal balance \n",
    "#in spam and ham\n",
    "X_train, X_test, y_train, y_test =  train_test_split(X, y, test_size = .3, shuffle = True, stratify = y,random_state = 3)\n",
    "\n",
    "print('*************** Output the shape of data *******************')\n",
    "print(X_train.shape)\n",
    "print(X_test.shape)\n",
    "print(y_train.shape)\n",
    "print(y_test.shape)\n",
    "print('***************************************************************')\n",
    "\n",
    "#apply multinomialNB classifier\n",
    "svc = SVC()\n",
    "svc.fit(X_train,y_train)\n",
    "\n",
    "#check the score\n",
    "print()\n",
    "print(f\"Training Score = {svc.score(X_train,y_train)} ----------- Test Score = {svc.score(X_test,y_test)}\")\n",
    "print()\n",
    "\n",
    "y_predict = svc.predict(X_test)\n",
    "\n",
    "#output accuracy score on the predicted data\n",
    "acc_score = accuracy_score(y_test,y_predict)\n",
    "print(f\"accuracy score = {acc_score}\")\n",
    "\n",
    "#output a confusion matrix to find out the true positive and false postive\n",
    "conf_matrix = confusion_matrix(y_test,y_predict)\n",
    "\n",
    "#show the confusion matrix in a chart\n",
    "\n",
    "ax = plot_confusion_matrix(conf_mat=conf_matrix, figsize=(5, 5), cmap=plt.cm.Accent)\n",
    "plt.xlabel('Predictions', fontsize=18)\n",
    "plt.ylabel('Actuals', fontsize=18)\n",
    "plt.title('Confusion Matrix', fontsize=18)\n",
    "plt.show()\n",
    "\n",
    "#save the knn model, this will be used for future prediction\n",
    "dump(mnb, open('model/svc_model.pkl', 'wb'))"
   ]
  },
  {
   "cell_type": "markdown",
   "id": "a3773ec5",
   "metadata": {},
   "source": [
    "### Run a test with SVM classifier with the model"
   ]
  },
  {
   "cell_type": "code",
   "execution_count": 41,
   "id": "3b290264",
   "metadata": {},
   "outputs": [
    {
     "data": {
      "text/plain": [
       "'ham'"
      ]
     },
     "execution_count": 41,
     "metadata": {},
     "output_type": "execute_result"
    }
   ],
   "source": [
    "from pickle import load\n",
    "\n",
    "#text = \"WINNER!! As a valued network customer you have been selected to receivea £900 prize reward! To claim call 09061701461. Claim code KL341. Valid 12 hours only.\"\n",
    "text = 'WINNER!! You won free trip to Maldives hurry up call me to get this deal @897458221'\n",
    "\n",
    "#load the tfid and knn from the pickle file \n",
    "tfidf_vectorizer = load(open('model/tfidf.pkl', 'rb'))\n",
    "knn = load(open('model/svc_model.pkl', 'rb'))\n",
    "\n",
    "processed_text = applyPreprocessing(text)\n",
    "\n",
    "#vectorize the processed text\n",
    "vec_data = tfidf_vectorizer.transform([processed_text])\n",
    "\n",
    "#predict if this is spam or ham\n",
    "y_predict = knn.predict(vec_data)\n",
    "\n",
    "#category class\n",
    "category_cls = {0:'ham',1:'spam'}\n",
    "category_cls[y_predict[0]]"
   ]
  },
  {
   "cell_type": "code",
   "execution_count": null,
   "id": "d64f3bd2",
   "metadata": {},
   "outputs": [],
   "source": []
  }
 ],
 "metadata": {
  "kernelspec": {
   "display_name": "Python 3 (ipykernel)",
   "language": "python",
   "name": "python3"
  },
  "language_info": {
   "codemirror_mode": {
    "name": "ipython",
    "version": 3
   },
   "file_extension": ".py",
   "mimetype": "text/x-python",
   "name": "python",
   "nbconvert_exporter": "python",
   "pygments_lexer": "ipython3",
   "version": "3.11.1"
  }
 },
 "nbformat": 4,
 "nbformat_minor": 5
}
