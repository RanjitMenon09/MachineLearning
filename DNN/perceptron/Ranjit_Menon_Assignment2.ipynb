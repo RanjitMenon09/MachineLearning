{
 "cells": [
  {
   "cell_type": "markdown",
   "id": "d03581f5",
   "metadata": {},
   "source": [
    "### Import libraries "
   ]
  },
  {
   "cell_type": "code",
   "execution_count": 1,
   "id": "6d2fa2e7",
   "metadata": {},
   "outputs": [],
   "source": [
    "import sklearn.datasets\n",
    "import pandas as pd\n",
    "import numpy as np\n",
    "from sklearn.model_selection import train_test_split\n",
    "from sklearn.metrics import accuracy_score\n",
    "import matplotlib.pyplot as plt"
   ]
  },
  {
   "cell_type": "code",
   "execution_count": 2,
   "id": "b883f0c1",
   "metadata": {},
   "outputs": [
    {
     "name": "stdout",
     "output_type": "stream",
     "text": [
      "     sepal length (cm)  sepal width (cm)  petal length (cm)  petal width (cm)  \\\n",
      "0                  5.1               3.5                1.4               0.2   \n",
      "1                  4.9               3.0                1.4               0.2   \n",
      "2                  4.7               3.2                1.3               0.2   \n",
      "3                  4.6               3.1                1.5               0.2   \n",
      "4                  5.0               3.6                1.4               0.2   \n",
      "..                 ...               ...                ...               ...   \n",
      "145                6.7               3.0                5.2               2.3   \n",
      "146                6.3               2.5                5.0               1.9   \n",
      "147                6.5               3.0                5.2               2.0   \n",
      "148                6.2               3.4                5.4               2.3   \n",
      "149                5.9               3.0                5.1               1.8   \n",
      "\n",
      "     species  \n",
      "0          0  \n",
      "1          0  \n",
      "2          0  \n",
      "3          0  \n",
      "4          0  \n",
      "..       ...  \n",
      "145        2  \n",
      "146        2  \n",
      "147        2  \n",
      "148        2  \n",
      "149        2  \n",
      "\n",
      "[150 rows x 5 columns]\n"
     ]
    }
   ],
   "source": [
    "iris_dataset = sklearn.datasets.load_iris()\n",
    "\n",
    "# Create a Pandas DataFrame and load the data and target from the iris_dataset\n",
    "df = pd.DataFrame(iris_dataset.data, columns=iris_dataset.feature_names)\n",
    "df['species'] = iris_dataset.target\n",
    "\n",
    "# Print the DataFrame\n",
    "print(df)\n"
   ]
  },
  {
   "cell_type": "code",
   "execution_count": 3,
   "id": "aa1a6d61",
   "metadata": {},
   "outputs": [
    {
     "data": {
      "text/html": [
       "<div>\n",
       "<style scoped>\n",
       "    .dataframe tbody tr th:only-of-type {\n",
       "        vertical-align: middle;\n",
       "    }\n",
       "\n",
       "    .dataframe tbody tr th {\n",
       "        vertical-align: top;\n",
       "    }\n",
       "\n",
       "    .dataframe thead th {\n",
       "        text-align: right;\n",
       "    }\n",
       "</style>\n",
       "<table border=\"1\" class=\"dataframe\">\n",
       "  <thead>\n",
       "    <tr style=\"text-align: right;\">\n",
       "      <th></th>\n",
       "      <th>sepal length (cm)</th>\n",
       "      <th>sepal width (cm)</th>\n",
       "      <th>petal length (cm)</th>\n",
       "      <th>petal width (cm)</th>\n",
       "      <th>species</th>\n",
       "    </tr>\n",
       "  </thead>\n",
       "  <tbody>\n",
       "    <tr>\n",
       "      <th>count</th>\n",
       "      <td>150.000000</td>\n",
       "      <td>150.000000</td>\n",
       "      <td>150.000000</td>\n",
       "      <td>150.000000</td>\n",
       "      <td>150.000000</td>\n",
       "    </tr>\n",
       "    <tr>\n",
       "      <th>mean</th>\n",
       "      <td>5.843333</td>\n",
       "      <td>3.057333</td>\n",
       "      <td>3.758000</td>\n",
       "      <td>1.199333</td>\n",
       "      <td>1.000000</td>\n",
       "    </tr>\n",
       "    <tr>\n",
       "      <th>std</th>\n",
       "      <td>0.828066</td>\n",
       "      <td>0.435866</td>\n",
       "      <td>1.765298</td>\n",
       "      <td>0.762238</td>\n",
       "      <td>0.819232</td>\n",
       "    </tr>\n",
       "    <tr>\n",
       "      <th>min</th>\n",
       "      <td>4.300000</td>\n",
       "      <td>2.000000</td>\n",
       "      <td>1.000000</td>\n",
       "      <td>0.100000</td>\n",
       "      <td>0.000000</td>\n",
       "    </tr>\n",
       "    <tr>\n",
       "      <th>25%</th>\n",
       "      <td>5.100000</td>\n",
       "      <td>2.800000</td>\n",
       "      <td>1.600000</td>\n",
       "      <td>0.300000</td>\n",
       "      <td>0.000000</td>\n",
       "    </tr>\n",
       "    <tr>\n",
       "      <th>50%</th>\n",
       "      <td>5.800000</td>\n",
       "      <td>3.000000</td>\n",
       "      <td>4.350000</td>\n",
       "      <td>1.300000</td>\n",
       "      <td>1.000000</td>\n",
       "    </tr>\n",
       "    <tr>\n",
       "      <th>75%</th>\n",
       "      <td>6.400000</td>\n",
       "      <td>3.300000</td>\n",
       "      <td>5.100000</td>\n",
       "      <td>1.800000</td>\n",
       "      <td>2.000000</td>\n",
       "    </tr>\n",
       "    <tr>\n",
       "      <th>max</th>\n",
       "      <td>7.900000</td>\n",
       "      <td>4.400000</td>\n",
       "      <td>6.900000</td>\n",
       "      <td>2.500000</td>\n",
       "      <td>2.000000</td>\n",
       "    </tr>\n",
       "  </tbody>\n",
       "</table>\n",
       "</div>"
      ],
      "text/plain": [
       "       sepal length (cm)  sepal width (cm)  petal length (cm)  \\\n",
       "count         150.000000        150.000000         150.000000   \n",
       "mean            5.843333          3.057333           3.758000   \n",
       "std             0.828066          0.435866           1.765298   \n",
       "min             4.300000          2.000000           1.000000   \n",
       "25%             5.100000          2.800000           1.600000   \n",
       "50%             5.800000          3.000000           4.350000   \n",
       "75%             6.400000          3.300000           5.100000   \n",
       "max             7.900000          4.400000           6.900000   \n",
       "\n",
       "       petal width (cm)     species  \n",
       "count        150.000000  150.000000  \n",
       "mean           1.199333    1.000000  \n",
       "std            0.762238    0.819232  \n",
       "min            0.100000    0.000000  \n",
       "25%            0.300000    0.000000  \n",
       "50%            1.300000    1.000000  \n",
       "75%            1.800000    2.000000  \n",
       "max            2.500000    2.000000  "
      ]
     },
     "execution_count": 3,
     "metadata": {},
     "output_type": "execute_result"
    }
   ],
   "source": [
    "df.describe()"
   ]
  },
  {
   "cell_type": "code",
   "execution_count": 4,
   "id": "bdbbb166",
   "metadata": {},
   "outputs": [
    {
     "name": "stdout",
     "output_type": "stream",
     "text": [
      "(150, 5)\n"
     ]
    }
   ],
   "source": [
    "print(df.shape)"
   ]
  },
  {
   "cell_type": "code",
   "execution_count": 5,
   "id": "f399f5bb",
   "metadata": {},
   "outputs": [
    {
     "data": {
      "text/plain": [
       "0    50\n",
       "1    50\n",
       "2    50\n",
       "Name: species, dtype: int64"
      ]
     },
     "execution_count": 5,
     "metadata": {},
     "output_type": "execute_result"
    }
   ],
   "source": [
    "df['species'].value_counts()"
   ]
  },
  {
   "cell_type": "code",
   "execution_count": 6,
   "id": "8ec97f97",
   "metadata": {},
   "outputs": [
    {
     "name": "stdout",
     "output_type": "stream",
     "text": [
      "['setosa' 'versicolor' 'virginica']\n"
     ]
    }
   ],
   "source": [
    "print(iris_dataset.target_names)"
   ]
  },
  {
   "cell_type": "markdown",
   "id": "d3b449cd",
   "metadata": {},
   "source": [
    "### Split the data into Train and Test for implementing Perceptron model"
   ]
  },
  {
   "cell_type": "code",
   "execution_count": 7,
   "id": "e47a44fa",
   "metadata": {},
   "outputs": [
    {
     "name": "stdout",
     "output_type": "stream",
     "text": [
      "(150,) (105,) (45,)\n"
     ]
    }
   ],
   "source": [
    "X = df.drop('species', axis=1)\n",
    "Y = df['species']\n",
    "\n",
    "X_train, X_test, Y_train, Y_test = train_test_split(X, Y, test_size=0.3)\n",
    "print(Y.shape, Y_train.shape, Y_test.shape)\n"
   ]
  },
  {
   "cell_type": "markdown",
   "id": "cd6ec8ac",
   "metadata": {},
   "source": [
    "### Implment the Perceptron model with the split train data"
   ]
  },
  {
   "cell_type": "code",
   "execution_count": 8,
   "id": "2bbc8acc",
   "metadata": {},
   "outputs": [],
   "source": [
    "X_train = X_train.values\n",
    "X_test = X_test.values"
   ]
  },
  {
   "cell_type": "code",
   "execution_count": 9,
   "id": "a8c7487b",
   "metadata": {},
   "outputs": [],
   "source": [
    "class Perceptron:\n",
    "  \n",
    "  def __init__ (self):\n",
    "   # Initialize the weights and bias to None\n",
    "    self.w = None\n",
    "    self.b = None\n",
    "    \n",
    "  def model(self, x):\n",
    "    # Predict the output for a given input x usign teh weight and bias configured above\n",
    "    return 1 if (np.dot(self.w, x) >= self.b) else 0\n",
    "    \n",
    "  def predict(self, X):\n",
    "    Y = []\n",
    "     # Iterate through each input x passed in the parameter and predict the output using the model declared above\n",
    "    for x in X:\n",
    "      result = self.model(x)\n",
    "      Y.append(result)\n",
    "    return np.array(Y)\n",
    "    \n",
    "  def fit(self, X, Y, epochs = 1, lr = 1):\n",
    "    \n",
    "    # Initialize the weights as an array of ones with the same shape as the input X\n",
    "    self.w = np.ones(X.shape[1])\n",
    "    self.b = 0 #initialze the bias as 0\n",
    "    \n",
    "    accuracy = {}\n",
    "    max_accuracy = 0\n",
    "    \n",
    "    \n",
    "    #The epoch value here is the number of times the entire dataset is passed throught this model, Changing the epoch value determines \n",
    "    #the number of time it goes over each training set and applies the weight and biases, once the prediction is made by peceptron model\n",
    "    #the weights and biases are updated to get better result \n",
    "    #we can increase or decrese the epoch, but incresing might lead to overfitting and decreasing too much may lead to underfitting\n",
    "    #we need to identify the right point and use that as our final number.\n",
    "    for i in range(epochs):\n",
    "        # Iterate over each training example (x, y) which was split above\n",
    "      for x, y in zip(X, Y):\n",
    "         # store the prediction using the current weight and bias \n",
    "        y_pred = self.model(x)\n",
    "        # Update the weights and bias based based on the prediction made above\n",
    "        if y == 1 and y_pred == 0:\n",
    "          self.w = self.w + lr * x\n",
    "          self.b = self.b - lr * 1\n",
    "        elif y == 0 and y_pred == 1:\n",
    "          self.w = self.w - lr * x\n",
    "          self.b = self.b + lr * 1\n",
    "                   \n",
    "        #store the accuracy from the prediction  \n",
    "      accuracy[i] = accuracy_score(self.predict(X), Y)\n",
    "      if (accuracy[i] > max_accuracy):\n",
    "        max_accuracy = accuracy[i]\n",
    "        chkptw = self.w\n",
    "        chkptb = self.b\n",
    "        \n",
    "    self.w = chkptw\n",
    "    self.b = chkptb\n",
    "        \n",
    "    print(max_accuracy)\n",
    "    \n",
    "    #plot teh graph to show how the accuracy changes for each epoch\n",
    "    plt.plot(np.array(list(accuracy.values())).astype(float))\n",
    "    plt.ylim([0, 1])\n",
    "    plt.xlabel('Epochs')\n",
    "    plt.ylabel('Accuracy')\n",
    "    plt.show()"
   ]
  },
  {
   "cell_type": "markdown",
   "id": "5b569b5b",
   "metadata": {},
   "source": [
    "### run the perceptron and adjust the epoch and learning rate to see how the model performs\n",
    "### The below code is running the perceptron model with 1000 epoch and 0.0001 as learning rate, looking at the one given below it give us an indication that once we increse the epoch between 150 -180 we start getting a consistent accuracy of 64%, with a learning rate of 0.0001,"
   ]
  },
  {
   "cell_type": "code",
   "execution_count": 10,
   "id": "5eaf4af6",
   "metadata": {},
   "outputs": [
    {
     "name": "stdout",
     "output_type": "stream",
     "text": [
      "0.6666666666666666\n"
     ]
    },
    {
     "data": {
      "image/png": "[encoded data removed]",
      "text/plain": [
       "<Figure size 640x480 with 1 Axes>"
      ]
     },
     "metadata": {},
     "output_type": "display_data"
    }
   ],
   "source": [
    "perceptron = Perceptron()\n",
    "perceptron.fit(X_train, Y_train, 1000, 0.0001)"
   ]
  },
  {
   "cell_type": "markdown",
   "id": "3d074704",
   "metadata": {},
   "source": [
    "### The below code will change the epoch and learning rate and can see the model is still behaving the same, it does not take much effect post a certain number we increase"
   ]
  },
  {
   "cell_type": "code",
   "execution_count": 11,
   "id": "6b8be10b",
   "metadata": {},
   "outputs": [
    {
     "name": "stdout",
     "output_type": "stream",
     "text": [
      "0.6666666666666666\n"
     ]
    },
    {
     "data": {
      "image/png": "[encoded data removed]",
      "text/plain": [
       "<Figure size 640x480 with 1 Axes>"
      ]
     },
     "metadata": {},
     "output_type": "display_data"
    }
   ],
   "source": [
    "perceptron = Perceptron()\n",
    "perceptron.fit(X_train, Y_train, 3000, 0.0008)"
   ]
  },
  {
   "cell_type": "code",
   "execution_count": 12,
   "id": "216b4160",
   "metadata": {},
   "outputs": [
    {
     "name": "stdout",
     "output_type": "stream",
     "text": [
      "0.6666666666666666\n"
     ]
    }
   ],
   "source": [
    "Y_pred_test = perceptron.predict(X_test)\n",
    "print(accuracy_score(Y_pred_test, Y_test))"
   ]
  },
  {
   "cell_type": "markdown",
   "id": "13b84f91",
   "metadata": {},
   "source": [
    "### Plot the weights that are initialized inside the perceptron model is gradually increasing, as it keep update the weights for each iteration that we are running with the training set."
   ]
  },
  {
   "cell_type": "code",
   "execution_count": 13,
   "id": "1818dff6",
   "metadata": {},
   "outputs": [
    {
     "data": {
      "image/png": "[encoded data removed]",
      "text/plain": [
       "<Figure size 640x480 with 1 Axes>"
      ]
     },
     "metadata": {},
     "output_type": "display_data"
    }
   ],
   "source": [
    "plt.plot(perceptron.w)\n",
    "plt.show()"
   ]
  },
  {
   "cell_type": "markdown",
   "id": "39b945e3",
   "metadata": {},
   "source": [
    "### modify the above perceptron function to save all the weights for each epoch and plot the same in a graph"
   ]
  },
  {
   "cell_type": "code",
   "execution_count": 14,
   "id": "39a0768f",
   "metadata": {},
   "outputs": [],
   "source": [
    "class Perceptron_modified:\n",
    "  \n",
    "  def __init__ (self):\n",
    "   # Initialize the weights and bias to None\n",
    "    self.w = None\n",
    "    self.b = None    \n",
    "    \n",
    "  def model(self, x):\n",
    "    # Predict the output for a given input x usign teh weight and bias configured above\n",
    "    return 1 if (np.dot(self.w, x) >= self.b) else 0\n",
    "    \n",
    "  def predict(self, X):\n",
    "    Y = []\n",
    "     # Iterate through each input x passed in the parameter and predict the output using the model declared above\n",
    "    for x in X:\n",
    "      result = self.model(x)\n",
    "      Y.append(result)\n",
    "    return np.array(Y)\n",
    "    \n",
    "  def fit(self, X, Y, epochs = 1, lr = 1):\n",
    "    \n",
    "    # Initialize the weights as an array of ones with the same shape as the input X\n",
    "    self.w = np.ones(X.shape[1])\n",
    "    self.b = 0 #initialze the bias as 0\n",
    "    \n",
    "    weight_list = []  # will store the weights identified for each iteration in the training process\n",
    "    \n",
    "    accuracy = {}\n",
    "    max_accuracy = 0\n",
    "    \n",
    "    \n",
    "    #The epoch value here is the number of times the entire dataset is passed throught this model, Changing the epoch value determines \n",
    "    #the number of time it goes over each training set and applies the weight and biases, once the prediction is made by peceptron model\n",
    "    #the weights and biases are updated to get better result \n",
    "    #we can increase or decrese the epoch, but incresing might lead to overfitting and decreasing too much may lead to underfitting\n",
    "    #we need to identify the right point and use that as our final number.\n",
    "    for i in range(epochs):\n",
    "        # Iterate over each training example (x, y) which was split above\n",
    "      for x, y in zip(X, Y):\n",
    "         # store the prediction using the current weight and bias \n",
    "        y_pred = self.model(x)\n",
    "        # Update the weights and bias based based on the prediction made above\n",
    "        if y == 1 and y_pred == 0:\n",
    "          self.w = self.w + lr * x\n",
    "          self.b = self.b - lr * 1\n",
    "        elif y == 0 and y_pred == 1:\n",
    "          self.w = self.w - lr * x\n",
    "          self.b = self.b + lr * 1\n",
    "            \n",
    "      #Copy the new weight that is updated to the weight_list for tracking each weight identified as part of the training process\n",
    "      weight_list.append(self.w.copy())\n",
    "                   \n",
    "        #store the accuracy from the prediction  \n",
    "      accuracy[i] = accuracy_score(self.predict(X), Y)\n",
    "      if (accuracy[i] > max_accuracy):\n",
    "        max_accuracy = accuracy[i]\n",
    "        chkptw = self.w\n",
    "        chkptb = self.b\n",
    "        \n",
    "    self.w = chkptw\n",
    "    self.b = chkptb\n",
    "        \n",
    "    print(max_accuracy)\n",
    "    \n",
    "    \n",
    "    # Plot the weight list\n",
    "    for i in range(len(weight_list[0])):\n",
    "        plt.plot([weights[i] for weights in weight_list])\n",
    "    plt.xlabel('Epochs')\n",
    "    plt.ylabel('Weight')\n",
    "    plt.show()"
   ]
  },
  {
   "cell_type": "markdown",
   "id": "6b6f1c60",
   "metadata": {},
   "source": [
    "### After the modification of perceptron function, the weight starts at 1, but as the epoch increase the weight decreases and then become constant"
   ]
  },
  {
   "cell_type": "code",
   "execution_count": 15,
   "id": "f02be264",
   "metadata": {},
   "outputs": [
    {
     "name": "stdout",
     "output_type": "stream",
     "text": [
      "0.6666666666666666\n"
     ]
    },
    {
     "data": {
      "image/png": "[encoded data removed]",
      "text/plain": [
       "<Figure size 640x480 with 1 Axes>"
      ]
     },
     "metadata": {},
     "output_type": "display_data"
    }
   ],
   "source": [
    "perceptron_m = Perceptron_modified()\n",
    "perceptron_m.fit(X_train, Y_train, 100, 0.0001)"
   ]
  },
  {
   "cell_type": "code",
   "execution_count": null,
   "id": "045bacf9",
   "metadata": {},
   "outputs": [],
   "source": []
  }
 ],
 "metadata": {
  "kernelspec": {
   "display_name": "Python 3 (ipykernel)",
   "language": "python",
   "name": "python3"
  },
  "language_info": {
   "codemirror_mode": {
    "name": "ipython",
    "version": 3
   },
   "file_extension": ".py",
   "mimetype": "text/x-python",
   "name": "python",
   "nbconvert_exporter": "python",
   "pygments_lexer": "ipython3",
   "version": "3.10.9"
  }
 },
 "nbformat": 4,
 "nbformat_minor": 5
}
